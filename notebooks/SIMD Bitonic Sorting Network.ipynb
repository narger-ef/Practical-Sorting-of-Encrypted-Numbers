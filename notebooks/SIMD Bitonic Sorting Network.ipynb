{
 "cells": [
  {
   "cell_type": "markdown",
   "id": "d8ae07d8",
   "metadata": {},
   "source": [
    "\n",
    "## SIMD Bitonic Sorting Network\n",
    "\n",
    "This notebook presents the algorithm that evaluates a Bitonic Sorting Network using the _max_ function and SIMD computations. This approach allows to easily write the same algorithm using the CKKS primitives."
   ]
  },
  {
   "cell_type": "markdown",
   "id": "c71bdaa7",
   "metadata": {},
   "source": [
    "### Importing libraries\n",
    "\n",
    "The *numpy* library will be useful as it will help us simulate SIMD computations. We also use *math* to compute logarithms and *matplotlib* to plot some numbers"
   ]
  },
  {
   "cell_type": "code",
   "execution_count": 144,
   "id": "6c961b66",
   "metadata": {},
   "outputs": [],
   "source": [
    "import numpy as np\n",
    "import math\n",
    "import matplotlib.pyplot as plt\n",
    "import statistics"
   ]
  },
  {
   "cell_type": "markdown",
   "id": "7b5e2e28",
   "metadata": {},
   "source": [
    "Defining a class to handle Remez approximations"
   ]
  },
  {
   "cell_type": "code",
   "execution_count": 145,
   "id": "79473465",
   "metadata": {},
   "outputs": [],
   "source": [
    "class Chebyshev:\n",
    "    \"\"\"\n",
    "    Chebyshev(a, b, n, func)\n",
    "    Given a function func, lower and upper limits of the interval [a,b],\n",
    "    and maximum degree n, this class computes a Chebyshev approximation\n",
    "    of the function.\n",
    "    Method eval(x) yields the approximated function value.\n",
    "    \"\"\"\n",
    "    def __init__(self, a, b, n, func):\n",
    "        self.a = a\n",
    "        self.b = b\n",
    "        self.func = func\n",
    "\n",
    "        bma = 0.5 * (b - a)\n",
    "        bpa = 0.5 * (b + a)\n",
    "        f = [func(math.cos(math.pi * (k + 0.5) / n) * bma + bpa) for k in range(n)]\n",
    "        fac = 2.0 / n\n",
    "        self.c = [fac * sum([f[k] * math.cos(math.pi * j * (k + 0.5) / n)\n",
    "                  for k in range(n)]) for j in range(n)]\n",
    "\n",
    "    def eval(self, x):\n",
    "        a,b = self.a, self.b\n",
    "        #assert(a <= x <= b)\n",
    "        y = (2.0 * x - a - b) * (1.0 / (b - a))\n",
    "        y2 = 2.0 * y\n",
    "        (d, dd) = (self.c[-1], 0)             # Special case first step for efficiency\n",
    "        for cj in self.c[-2:0:-1]:            # Clenshaw's recurrence\n",
    "            (d, dd) = (y2 * d - dd + cj, d)\n",
    "        return y * d - dd + 0.5 * self.c[0]   # Last step is different\n",
    "    \n",
    "def relu(x):\n",
    "    return np.maximum(0, x)\n",
    "\n",
    "def inf_norm(real, approx):\n",
    "    norm = 0\n",
    "    for i in range(len(real)):\n",
    "        diff = abs(real[i] - approx[i])\n",
    "        if diff > norm:\n",
    "            norm = diff\n",
    "    return norm"
   ]
  },
  {
   "cell_type": "markdown",
   "id": "da8edcba",
   "metadata": {},
   "source": [
    "## Defining primitive functions"
   ]
  },
  {
   "cell_type": "markdown",
   "id": "28c263de",
   "metadata": {},
   "source": [
    "This set of functions can be trivially written as CKKS homomorphic operations"
   ]
  },
  {
   "cell_type": "code",
   "execution_count": 146,
   "id": "63cf8ff3",
   "metadata": {},
   "outputs": [],
   "source": [
    "def add(a, b):\n",
    "    \"\"\"\n",
    "    Adds two arrays element-wise.\n",
    "\n",
    "    Parameters:\n",
    "    a (array-like): First input array.\n",
    "    b (array-like): Second input array.\n",
    "\n",
    "    Returns:\n",
    "    numpy.ndarray: Element-wise sum of input arrays.\n",
    "    \"\"\"\n",
    "    return np.add(a, b)\n",
    "\n",
    "def add_many(values):\n",
    "    \"\"\"\n",
    "    Sums up multiple arrays contained in the values list.\n",
    "\n",
    "    Parameters:\n",
    "    values (list of array-like): List containing arrays to be summed.\n",
    "\n",
    "    Returns:\n",
    "    numpy.ndarray: Sum of all arrays in the values list.\n",
    "    \"\"\"\n",
    "    res = np.zeros(len(values[0]), dtype=int)\n",
    "    for value in values:\n",
    "        res = add(res, value)\n",
    "    return res\n",
    "\n",
    "def sub(a, b):\n",
    "    \"\"\"\n",
    "    Subtracts one array from another element-wise.\n",
    "\n",
    "    Parameters:\n",
    "    a (array-like): The array to be subtracted from.\n",
    "    b (array-like): The array to subtract.\n",
    "\n",
    "    Returns:\n",
    "    numpy.ndarray: Element-wise difference of the two input arrays.\n",
    "    \"\"\"\n",
    "    return np.add(a, -b)\n",
    "\n",
    "def mul(a, b):\n",
    "    \"\"\"\n",
    "    Multiplies two arrays element-wise.\n",
    "\n",
    "    Parameters:\n",
    "    a (array-like): First input array.\n",
    "    b (array-like): Second input array.\n",
    "\n",
    "    Returns:\n",
    "    numpy.ndarray: Element-wise product of input arrays.\n",
    "    \"\"\"\n",
    "    return np.multiply(a, b)\n",
    "\n",
    "def mask(a, index):\n",
    "    \"\"\"\n",
    "    Masks elements of array a at the specified index with 1 and multiplies with the array.\n",
    "\n",
    "    Parameters:\n",
    "    a (array-like): The input array.\n",
    "    index (int): Index to be masked.\n",
    "\n",
    "    Returns:\n",
    "    numpy.ndarray: Array with specified index masked with 1.\n",
    "    \"\"\"\n",
    "    mask_vector = np.zeros(len(a), dtype=int)\n",
    "    mask_vector[index] = 1\n",
    "    return mul(a, mask_vector)\n",
    "\n",
    "def rot(a, index):\n",
    "    \"\"\"\n",
    "    Rotates the array to the left by the specified number of positions.\n",
    "\n",
    "    Parameters:\n",
    "    a (array-like): The input array.\n",
    "    index (int): Number of positions to rotate the array to the left.\n",
    "\n",
    "    Returns:\n",
    "    numpy.ndarray: Array rotated to the left by the specified number of positions.\n",
    "    \"\"\"\n",
    "    return np.roll(a, -index)\n",
    "\n",
    "def f_min(a, b):\n",
    "    \"\"\"\n",
    "    Computes the element-wise minimum of two arrays.\n",
    "\n",
    "    Parameters:\n",
    "    a (array-like): First input array.\n",
    "    b (array-like): Second input array.\n",
    "\n",
    "    Returns:\n",
    "    numpy.ndarray: Element-wise minimum of the two input arrays.\n",
    "    \"\"\"\n",
    "    ans = []\n",
    "    for i in range(len(a)):\n",
    "        ans.append(min(a[i], b[i]))\n",
    "    return np.array(ans)\n",
    "\n",
    "def f_min_remez(a, b):\n",
    "    \"\"\"\n",
    "    Computes the element-wise minimum of two arrays.\n",
    "\n",
    "    Parameters:\n",
    "    a (array-like): First input array.\n",
    "    b (array-like): Second input array.\n",
    "\n",
    "    Returns:\n",
    "    numpy.ndarray: Element-wise minimum of the two input arrays.\n",
    "    \"\"\"\n",
    "    ans = []\n",
    "    for i in range(len(a)):\n",
    "        ans.append(a[i] - poly_relu_remez.eval(a[i] - b[i]))\n",
    "    return np.array(ans)\n",
    "\n",
    "def f_min_cheby(a, b):\n",
    "    \"\"\"\n",
    "    Computes the element-wise minimum of two arrays.\n",
    "\n",
    "    Parameters:\n",
    "    a (array-like): First input array.\n",
    "    b (array-like): Second input array.\n",
    "\n",
    "    Returns:\n",
    "    numpy.ndarray: Element-wise minimum of the two input arrays.\n",
    "    \"\"\"\n",
    "    return sub(a, np.vectorize(poly_relu_cheby.eval)(sub(a, b)))"
   ]
  },
  {
   "cell_type": "markdown",
   "id": "ced065c9",
   "metadata": {},
   "source": [
    "Now we define the _swap_ function that will heavily be used throughout the evaluation of the Sorting Network"
   ]
  },
  {
   "cell_type": "code",
   "execution_count": 147,
   "id": "d4225e14",
   "metadata": {},
   "outputs": [],
   "source": [
    "def swap_simd(a, delta, b = 0, l = 0, poly = True):    \n",
    "    \"\"\"\n",
    "    Computes a parallel evaluation of a Sorting Network\n",
    "\n",
    "    Parameters:\n",
    "    a (array-like): Input array\n",
    "    delta (int): The value of delta. In a sorting network, it specifies the \"length of the arrows\".\n",
    "    r (int): The current round of the sorting network\n",
    "    s (int): The current stage of the sorting network\n",
    "\n",
    "    Returns:\n",
    "    numpy.ndarray: Element-wise minimum of the two input arrays.\n",
    "    \"\"\"\n",
    "    rot_positive = rot(a, delta)\n",
    "    rot_negative = rot(a, -delta)\n",
    "    \n",
    "    # This is the evaluation of the non-linear function\n",
    "    \n",
    "    if poly:\n",
    "        f = f_min_cheby(a, rot_positive)\n",
    "    else:\n",
    "        f = f_min(a, rot_positive)\n",
    "            \n",
    "    m1 = f\n",
    "    m2 = sub(add(a, rot_negative), rot(f, -delta))\n",
    "    m3 = sub(add(a, rot_positive), f)\n",
    "    m4 = rot(f, -delta)\n",
    "    \n",
    "    masks = generate_masks(len(a), b, l)\n",
    "    \n",
    "    return add_many([mul(m1, masks[0]), \n",
    "                     mul(m2, masks[1]),\n",
    "                     mul(m3, masks[2]),\n",
    "                     mul(m4, masks[3])])"
   ]
  },
  {
   "cell_type": "code",
   "execution_count": 148,
   "id": "21543bcd",
   "metadata": {},
   "outputs": [],
   "source": [
    "def generate_masks(length, b, l):\n",
    "    \"\"\"\n",
    "    Da commentare\n",
    "    \"\"\"\n",
    "    mask_1 = []\n",
    "    mask_2 = []\n",
    "    mask_3 = []\n",
    "    mask_4 = []\n",
    "    \n",
    "    \n",
    "    while len(mask_1) < length:    \n",
    "        for _ in range(2 ** l):\n",
    "            for _ in range(2 ** (b - l)):\n",
    "                mask_1.append(1)\n",
    "                mask_2.append(0)\n",
    "                mask_3.append(0)\n",
    "                mask_4.append(0)\n",
    "\n",
    "            for _ in range(2 ** (b - l)):\n",
    "                mask_1.append(0)\n",
    "                mask_2.append(1)\n",
    "                mask_3.append(0)\n",
    "                mask_4.append(0)\n",
    "\n",
    "        if len(mask_1) + (2 ** b) >= length:\n",
    "            break\n",
    "            \n",
    "        for _ in range(2 ** l):\n",
    "            for _ in range(2 ** (b - l)):\n",
    "                mask_1.append(0)\n",
    "                mask_2.append(0)\n",
    "                mask_3.append(1)\n",
    "                mask_4.append(0)\n",
    "                \n",
    "            for _ in range(2 ** (b - l)):\n",
    "                mask_1.append(0)\n",
    "                mask_2.append(0)\n",
    "                mask_3.append(0)\n",
    "                mask_4.append(1)\n",
    "\n",
    "    \n",
    "    return [mask_1, mask_2, mask_3, mask_4]"
   ]
  },
  {
   "cell_type": "markdown",
   "id": "5eb3885b",
   "metadata": {},
   "source": [
    "### Evaluating a Network"
   ]
  },
  {
   "cell_type": "markdown",
   "id": "16bbeb5e",
   "metadata": {},
   "source": [
    "Let's start with a simple example, ordering two elements"
   ]
  },
  {
   "cell_type": "markdown",
   "id": "9c5f3efa",
   "metadata": {},
   "source": [
    "## Sorting 2 elements"
   ]
  },
  {
   "cell_type": "code",
   "execution_count": 149,
   "id": "6ef1710d",
   "metadata": {},
   "outputs": [
    {
     "name": "stdout",
     "output_type": "stream",
     "text": [
      "[0.  0.5]\n"
     ]
    }
   ],
   "source": [
    "n = 2\n",
    "a = np.arange(n) / n\n",
    "\n",
    "vec = np.copy(a)\n",
    "\n",
    "print(vec)\n",
    "\n",
    "a.sort()"
   ]
  },
  {
   "cell_type": "markdown",
   "id": "4074dc4c",
   "metadata": {},
   "source": [
    "Let's define the approximation with $d = 7$"
   ]
  },
  {
   "cell_type": "code",
   "execution_count": 150,
   "id": "3e7c1dfb",
   "metadata": {},
   "outputs": [],
   "source": [
    "poly_relu_cheby = Chebyshev(-1, 1, 7, relu)"
   ]
  },
  {
   "cell_type": "code",
   "execution_count": 151,
   "id": "5c81bc49",
   "metadata": {},
   "outputs": [
    {
     "name": "stdout",
     "output_type": "stream",
     "text": [
      "Before: [0.  0.5]\n",
      "After: [-0.0132422  0.5132422]\n",
      "Infinity norm error: 0.013242198630991464\n",
      "Precision bits: 6.238713513952075\n"
     ]
    }
   ],
   "source": [
    "for b in range(int(math.log2(n))):\n",
    "    for l in range(b + 1): \n",
    "        delta = 2 ** (b - l)\n",
    "        vec = swap_simd(vec, delta, b, l, poly = True)  \n",
    "        \n",
    "print(\"Before: {}\\nAfter: {}\".format(a, vec))\n",
    "print(\"Infinity norm error: {}\".format(inf_norm(a, vec)))\n",
    "print(\"Precision bits: {}\".format(-math.log2(inf_norm(a, vec))))"
   ]
  },
  {
   "cell_type": "markdown",
   "id": "ddf16d1c",
   "metadata": {},
   "source": [
    "Now with $d=6$"
   ]
  },
  {
   "cell_type": "code",
   "execution_count": 152,
   "id": "57e6d62b",
   "metadata": {},
   "outputs": [],
   "source": [
    "poly_relu_cheby = Chebyshev(-1, 1, 6, relu)"
   ]
  },
  {
   "cell_type": "code",
   "execution_count": 153,
   "id": "f5d929ef",
   "metadata": {},
   "outputs": [
    {
     "name": "stdout",
     "output_type": "stream",
     "text": [
      "Before: [0.  0.5]\n",
      "After: [-4.80258466e-05  5.00048026e-01]\n",
      "Infinity norm error: 4.802584657176423e-05\n",
      "Precision bits: 14.345829429330573\n"
     ]
    }
   ],
   "source": [
    "for b in range(int(math.log2(n))):\n",
    "    for l in range(b + 1): \n",
    "        delta = 2 ** (b - l)\n",
    "        vec = swap_simd(vec, delta, b, l, poly = True)  \n",
    "        \n",
    "print(\"Before: {}\\nAfter: {}\".format(a, vec))\n",
    "print(\"Infinity norm error: {}\".format(inf_norm(a, vec)))\n",
    "print(\"Precision bits: {}\".format(-math.log2(inf_norm(a, vec))))"
   ]
  },
  {
   "cell_type": "markdown",
   "id": "35a82f1b",
   "metadata": {},
   "source": [
    "Even if the degree is smaller, the approximation has a smaller error with an odd degree."
   ]
  },
  {
   "cell_type": "markdown",
   "id": "ebf6c864",
   "metadata": {},
   "source": [
    "## Sorting 16 elements"
   ]
  },
  {
   "cell_type": "code",
   "execution_count": 154,
   "id": "3cfe0ae5",
   "metadata": {},
   "outputs": [
    {
     "name": "stdout",
     "output_type": "stream",
     "text": [
      "[0.375  0.4375 0.5    0.125  0.625  0.1875 0.875  0.5625 0.     0.75\n",
      " 0.9375 0.6875 0.25   0.0625 0.3125 0.8125]\n"
     ]
    }
   ],
   "source": [
    "n = 16\n",
    "\n",
    "a = np.arange(n) / n\n",
    "np.random.shuffle(a)\n",
    "\n",
    "vec = np.copy(a)\n",
    "sorted_a = np.copy(a)\n",
    "sorted_a.sort()\n",
    "\n",
    "print(vec)"
   ]
  },
  {
   "cell_type": "code",
   "execution_count": 155,
   "id": "c71b534b",
   "metadata": {},
   "outputs": [
    {
     "name": "stdout",
     "output_type": "stream",
     "text": [
      "Infinity norm error: 0.003416751748933411\n"
     ]
    }
   ],
   "source": [
    "vec = np.copy(a)\n",
    "poly_relu_cheby = Chebyshev(-1, 1, 26, relu)\n",
    "\n",
    "for b in range(int(math.log2(n))):\n",
    "    for l in range(b + 1): \n",
    "        delta = 2 ** (b - l)\n",
    "        vec = swap_simd(vec, delta, b, l, poly = True) \n",
    "        \n",
    "#print(\"Before: {}\\nAfter: {}\".format(a, vec))\n",
    "print(\"Infinity norm error: {}\".format(inf_norm(sorted_a, vec)))"
   ]
  },
  {
   "cell_type": "markdown",
   "id": "ef0ad25c",
   "metadata": {},
   "source": [
    "We sample a vector of $2^{6} = 64$ elements"
   ]
  },
  {
   "cell_type": "code",
   "execution_count": 156,
   "id": "c3ef6228",
   "metadata": {},
   "outputs": [
    {
     "name": "stdout",
     "output_type": "stream",
     "text": [
      "[0.9375   0.71875  0.703125 0.765625 0.625    0.015625 0.5625   0.90625\n",
      " 0.609375 0.140625 0.828125 0.203125 0.796875 0.578125 0.421875 0.8125\n",
      " 0.859375 0.09375  0.53125  0.671875 0.96875  0.34375  0.1875   0.46875\n",
      " 0.234375 0.953125 0.59375  0.921875 0.875    0.4375   0.359375 0.890625\n",
      " 0.3125   0.078125 0.40625  0.546875 0.109375 0.28125  0.515625 0.25\n",
      " 0.046875 0.       0.21875  0.78125  0.390625 0.15625  0.84375  0.65625\n",
      " 0.453125 0.0625   0.375    0.03125  0.5      0.734375 0.6875   0.265625\n",
      " 0.984375 0.484375 0.640625 0.296875 0.75     0.171875 0.328125 0.125   ]\n"
     ]
    }
   ],
   "source": [
    "n = 2 ** 6\n",
    "\n",
    "a = np.arange(n) / n\n",
    "np.random.shuffle(a)\n",
    "\n",
    "vec = np.copy(a)\n",
    "print(vec)"
   ]
  },
  {
   "cell_type": "code",
   "execution_count": 157,
   "id": "77441a24",
   "metadata": {},
   "outputs": [],
   "source": [
    "a_backup = a\n",
    "a_backup.sort()"
   ]
  },
  {
   "cell_type": "markdown",
   "id": "b1fabaf0",
   "metadata": {},
   "source": [
    "Now we evaluate it using SIMD computations, in particular we will just use the _swap_simd_ function"
   ]
  },
  {
   "cell_type": "code",
   "execution_count": 158,
   "id": "f984b9f6",
   "metadata": {},
   "outputs": [
    {
     "data": {
      "text/plain": [
       "array([-0.02436181,  0.01660858,  0.02151541,  0.0603901 ,  0.04654214,\n",
       "        0.0854186 ,  0.08706951,  0.12626913,  0.10898541,  0.14793528,\n",
       "        0.14986132,  0.18853304,  0.17017209,  0.20906467,  0.21047061,\n",
       "        0.24926698,  0.23346786,  0.27385652,  0.27416838,  0.31553726,\n",
       "        0.29654703,  0.33630761,  0.33803774,  0.37724632,  0.36083849,\n",
       "        0.39967747,  0.40072219,  0.43949244,  0.42103368,  0.45960737,\n",
       "        0.46005605,  0.49861997,  0.48363482,  0.52218322,  0.52300047,\n",
       "        0.56153267,  0.54632531,  0.58600872,  0.58679814,  0.62660734,\n",
       "        0.60852911,  0.64750686,  0.64888996,  0.68769173,  0.66852289,\n",
       "        0.70706776,  0.70969555,  0.74828093,  0.73348685,  0.77232556,\n",
       "        0.77401937,  0.81305714,  0.79417318,  0.83404923,  0.83541323,\n",
       "        0.87457251,  0.85746268,  0.89626352,  0.90264629,  0.94170053,\n",
       "        0.92471966,  0.96325172,  0.97143121,  1.01019436])"
      ]
     },
     "execution_count": 158,
     "metadata": {},
     "output_type": "execute_result"
    }
   ],
   "source": [
    "for b in range(int(math.log2(n))):\n",
    "    for l in range(b + 1): \n",
    "        delta = 2 ** (b - l)\n",
    "        vec = swap_simd(vec, delta, b, l, poly = True)  \n",
    "vec"
   ]
  },
  {
   "cell_type": "code",
   "execution_count": 159,
   "id": "365f6514",
   "metadata": {},
   "outputs": [
    {
     "name": "stdout",
     "output_type": "stream",
     "text": [
      "Infinity norm for d = 1: 0.4843750000000002\n",
      "Infinity norm for d = 2: 1.6291328435596428\n",
      "Infinity norm for d = 3: 0.34076003146893347\n",
      "Infinity norm for d = 4: 8134.969099320469\n",
      "Infinity norm for d = 5: 0.22529849878822833\n",
      "Infinity norm for d = 6: 0.29767839072788504\n",
      "Infinity norm for d = 7: 0.1771097464933894\n",
      "Infinity norm for d = 8: 0\n",
      "Infinity norm for d = 9: 0.17117267999905827\n",
      "Infinity norm for d = 10: 0.7022104412538828\n",
      "Infinity norm for d = 11: 0.12850119924294767\n",
      "Infinity norm for d = 12: 0\n",
      "Infinity norm for d = 13: 0.10872081561053448\n",
      "Infinity norm for d = 14: 0.5128262767708944\n",
      "Infinity norm for d = 15: 0.10972897503152323\n",
      "Infinity norm for d = 16: 0\n",
      "Infinity norm for d = 17: 0.09992097977546938\n",
      "Infinity norm for d = 18: 0.14294800975454341\n",
      "Infinity norm for d = 19: 0.09343786263166876\n",
      "Infinity norm for d = 20: 0.589011830179939\n",
      "Infinity norm for d = 21: 0.08480453403196098\n",
      "Infinity norm for d = 22: 0.04777365560231983\n",
      "Infinity norm for d = 23: 0.0692747865219816\n",
      "Infinity norm for d = 24: 0.30201676974087377\n",
      "Infinity norm for d = 25: 0.058254223968455476\n",
      "Infinity norm for d = 26: 0.03568510205896969\n",
      "Infinity norm for d = 27: 0.057379129519302796\n",
      "Infinity norm for d = 28: 0.14347040475876718\n",
      "Infinity norm for d = 29: 0.06011155052913403\n",
      "Infinity norm for d = 30: 0.028661199610091392\n",
      "Infinity norm for d = 31: 0.0601132384744798\n",
      "Infinity norm for d = 32: 0.058419843907725144\n",
      "Infinity norm for d = 33: 0.058627401391175504\n",
      "Infinity norm for d = 34: 0.02274610033330493\n",
      "Infinity norm for d = 35: 0.05688386404901008\n",
      "Infinity norm for d = 36: 0.02572281398099535\n",
      "Infinity norm for d = 37: 0.05545608602193358\n",
      "Infinity norm for d = 38: 0.020161966051147173\n",
      "Infinity norm for d = 39: 0.05235176725435514\n",
      "Infinity norm for d = 40: 0.019111677292216467\n",
      "Infinity norm for d = 41: 0.04843867422169934\n",
      "Infinity norm for d = 42: 0.017660254251955387\n",
      "Infinity norm for d = 43: 0.045356038998743076\n",
      "Infinity norm for d = 44: 0.016300248593936972\n",
      "Infinity norm for d = 45: 0.041067562643700595\n",
      "Infinity norm for d = 46: 0.014901913439256842\n",
      "Infinity norm for d = 47: 0.035343411495496024\n",
      "Infinity norm for d = 48: 0.013421276869134635\n",
      "Infinity norm for d = 49: 0.028967708768352862\n"
     ]
    },
    {
     "name": "stderr",
     "output_type": "stream",
     "text": [
      "/var/folders/f4/cjlhwcw50v97ltsgj1fxyssm0000gn/T/ipykernel_16827/2807549886.py:28: RuntimeWarning: overflow encountered in scalar multiply\n",
      "  (d, dd) = (y2 * d - dd + cj, d)\n",
      "/var/folders/f4/cjlhwcw50v97ltsgj1fxyssm0000gn/T/ipykernel_16827/2807549886.py:28: RuntimeWarning: invalid value encountered in scalar subtract\n",
      "  (d, dd) = (y2 * d - dd + cj, d)\n"
     ]
    },
    {
     "name": "stdout",
     "output_type": "stream",
     "text": [
      "Infinity norm for d = 50: 0.012601398061218294\n",
      "Infinity norm for d = 51: 0.025023326918975464\n",
      "Infinity norm for d = 52: 0.011917506682598944\n",
      "Infinity norm for d = 53: 0.027264236191826052\n",
      "Infinity norm for d = 54: 0.011153216528643428\n",
      "Infinity norm for d = 55: 0.02984999540691452\n",
      "Infinity norm for d = 56: 0.010353254181480143\n",
      "Infinity norm for d = 57: 0.03137386529246072\n",
      "Infinity norm for d = 58: 0.009670089870656817\n",
      "Infinity norm for d = 59: 0.03212231846051117\n",
      "Infinity norm for d = 60: 0.00897597249872567\n",
      "Infinity norm for d = 61: 0.03218189019109241\n",
      "Infinity norm for d = 62: 0.0082819519106907\n",
      "Infinity norm for d = 63: 0.03231441879590202\n",
      "Infinity norm for d = 64: 0.007604703551225667\n",
      "Infinity norm for d = 65: 0.03243940180404947\n",
      "Infinity norm for d = 66: 0.007033199545749769\n",
      "Infinity norm for d = 67: 0.031922576483644605\n",
      "Infinity norm for d = 68: 0.006691927849664547\n",
      "Infinity norm for d = 69: 0.030904464917369978\n",
      "Infinity norm for d = 70: 0.006352584491594926\n",
      "Infinity norm for d = 71: 0.029669607551322086\n",
      "Infinity norm for d = 72: 0.006011525280378294\n",
      "Infinity norm for d = 73: 0.028463436115007568\n",
      "Infinity norm for d = 74: 0.005657564861891395\n",
      "Infinity norm for d = 75: 0.027493090284881394\n",
      "Infinity norm for d = 76: 0.005667457856711633\n",
      "Infinity norm for d = 77: 0.026804877509786496\n",
      "Infinity norm for d = 78: 0.005627347133984939\n",
      "Infinity norm for d = 79: 0.02690361831068344\n",
      "Infinity norm for d = 80: 0.005539700058322661\n",
      "Infinity norm for d = 81: 0.026541736920380865\n",
      "Infinity norm for d = 82: 0.005450385998099272\n",
      "Infinity norm for d = 83: 0.025737151206926212\n",
      "Infinity norm for d = 84: 0.005330056147580864\n",
      "Infinity norm for d = 85: 0.0247366903299725\n",
      "Infinity norm for d = 86: 0.005175613443422877\n",
      "Infinity norm for d = 87: 0.023284198353251462\n",
      "Infinity norm for d = 88: 0.005052162438396235\n",
      "Infinity norm for d = 89: 0.02150356859081759\n",
      "Infinity norm for d = 90: 0.004936427665499565\n",
      "Infinity norm for d = 91: 0.01992640075554286\n",
      "Infinity norm for d = 92: 0.004791632165423998\n",
      "Infinity norm for d = 93: 0.018255995993184615\n",
      "Infinity norm for d = 94: 0.004627032487591776\n",
      "Infinity norm for d = 95: 0.016257983725415537\n",
      "Infinity norm for d = 96: 0.00443402032791429\n",
      "Infinity norm for d = 97: 0.013915580183786858\n",
      "Infinity norm for d = 98: 0.004209148215292946\n",
      "Infinity norm for d = 99: 0.011404839865916339\n",
      "Infinity norm for d = 100: 0.003959706287961939\n",
      "Infinity norm for d = 101: 0.00946637059327482\n",
      "Infinity norm for d = 102: 0.003849989871731685\n",
      "Infinity norm for d = 103: 0.008802517721843428\n",
      "Infinity norm for d = 104: 0.0037589130476614607\n",
      "Infinity norm for d = 105: 0.010538919474228359\n",
      "Infinity norm for d = 106: 0.0036514700387778043\n",
      "Infinity norm for d = 107: 0.011930644829608095\n",
      "Infinity norm for d = 108: 0.0035372126668415382\n",
      "Infinity norm for d = 109: 0.012910908082564676\n",
      "Infinity norm for d = 110: 0.0034132598341341525\n",
      "Infinity norm for d = 111: 0.013486385469687001\n",
      "Infinity norm for d = 112: 0.0032991530073414044\n",
      "Infinity norm for d = 113: 0.013991342087368852\n",
      "Infinity norm for d = 114: 0.0032120271912569054\n",
      "Infinity norm for d = 115: 0.014384915945003574\n",
      "Infinity norm for d = 116: 0.00311077168506646\n",
      "Infinity norm for d = 117: 0.014502120043297761\n",
      "Infinity norm for d = 118: 0.0030044195700560383\n"
     ]
    }
   ],
   "source": [
    "precision_bits = {}\n",
    "\n",
    "for deg in range(1, 119):\n",
    "    poly_relu_cheby = Chebyshev(-1, 1, deg, relu)\n",
    "    vec = np.copy(a)\n",
    "    for b in range(int(math.log2(n))):\n",
    "        for l in range(b + 1): \n",
    "            delta = 2 ** (b - l)\n",
    "            vec = swap_simd(vec, delta, b, l, poly = True) \n",
    "    print(\"Infinity norm for d = {}: {}\".format(deg, inf_norm(a_backup, vec)))"
   ]
  },
  {
   "cell_type": "code",
   "execution_count": 160,
   "id": "dbccbbd9",
   "metadata": {
    "scrolled": true
   },
   "outputs": [
    {
     "name": "stdout",
     "output_type": "stream",
     "text": [
      "Precision bits for d = 10: 0.51\n",
      "Precision bits for d = 11: 2.96\n",
      "Precision bits for d = 12: nan\n",
      "Precision bits for d = 13: 3.2\n",
      "Precision bits for d = 14: 0.96\n",
      "Precision bits for d = 15: 3.19\n",
      "Precision bits for d = 16: nan\n",
      "Precision bits for d = 17: 3.32\n",
      "Precision bits for d = 18: 2.81\n",
      "Precision bits for d = 19: 3.42\n",
      "Precision bits for d = 20: 0.76\n",
      "Precision bits for d = 21: 3.56\n",
      "Precision bits for d = 22: 4.39\n",
      "Precision bits for d = 23: 3.85\n",
      "Precision bits for d = 24: 1.73\n",
      "Precision bits for d = 25: 4.1\n",
      "Precision bits for d = 26: 4.81\n",
      "Precision bits for d = 27: 4.12\n",
      "Precision bits for d = 28: 2.8\n",
      "Precision bits for d = 29: 4.06\n",
      "Precision bits for d = 30: 5.12\n",
      "Precision bits for d = 31: 4.06\n",
      "Precision bits for d = 32: 4.1\n",
      "Precision bits for d = 33: 4.09\n",
      "Precision bits for d = 34: 5.46\n",
      "Precision bits for d = 35: 4.14\n",
      "Precision bits for d = 36: 5.28\n",
      "Precision bits for d = 37: 4.17\n",
      "Precision bits for d = 38: 5.63\n",
      "Precision bits for d = 39: 4.26\n",
      "Precision bits for d = 40: 5.71\n",
      "Precision bits for d = 41: 4.37\n",
      "Precision bits for d = 42: 5.82\n",
      "Precision bits for d = 43: 4.46\n",
      "Precision bits for d = 44: 5.94\n",
      "Precision bits for d = 45: 4.61\n",
      "Precision bits for d = 46: 6.07\n",
      "Precision bits for d = 47: 4.82\n",
      "Precision bits for d = 48: 6.22\n",
      "Precision bits for d = 49: 5.11\n",
      "Precision bits for d = 50: 6.31\n",
      "Precision bits for d = 51: 5.32\n",
      "Precision bits for d = 52: 6.39\n",
      "Precision bits for d = 53: 5.2\n",
      "Precision bits for d = 54: 6.49\n",
      "Precision bits for d = 55: 5.07\n",
      "Precision bits for d = 56: 6.59\n",
      "Precision bits for d = 57: 4.99\n",
      "Precision bits for d = 58: 6.69\n",
      "Precision bits for d = 59: 4.96\n",
      "Precision bits for d = 60: 6.8\n",
      "Precision bits for d = 61: 4.96\n",
      "Precision bits for d = 62: 6.92\n",
      "Precision bits for d = 63: 4.95\n",
      "Precision bits for d = 64: 7.04\n",
      "Precision bits for d = 65: 4.95\n",
      "Precision bits for d = 66: 7.15\n",
      "Precision bits for d = 67: 4.97\n",
      "Precision bits for d = 68: 7.22\n",
      "Precision bits for d = 69: 5.02\n",
      "Precision bits for d = 70: 7.3\n",
      "Precision bits for d = 71: 5.07\n",
      "Precision bits for d = 72: 7.38\n",
      "Precision bits for d = 73: 5.13\n",
      "Precision bits for d = 74: 7.47\n",
      "Precision bits for d = 75: 5.18\n",
      "Precision bits for d = 76: 7.46\n",
      "Precision bits for d = 77: 5.22\n",
      "Precision bits for d = 78: 7.47\n",
      "Precision bits for d = 79: 5.22\n",
      "Precision bits for d = 80: 7.5\n",
      "Precision bits for d = 81: 5.24\n",
      "Precision bits for d = 82: 7.52\n"
     ]
    },
    {
     "name": "stderr",
     "output_type": "stream",
     "text": [
      "/var/folders/f4/cjlhwcw50v97ltsgj1fxyssm0000gn/T/ipykernel_16827/2807549886.py:28: RuntimeWarning: overflow encountered in scalar multiply\n",
      "  (d, dd) = (y2 * d - dd + cj, d)\n",
      "/var/folders/f4/cjlhwcw50v97ltsgj1fxyssm0000gn/T/ipykernel_16827/2807549886.py:28: RuntimeWarning: invalid value encountered in scalar subtract\n",
      "  (d, dd) = (y2 * d - dd + cj, d)\n"
     ]
    },
    {
     "name": "stdout",
     "output_type": "stream",
     "text": [
      "Precision bits for d = 83: 5.28\n",
      "Precision bits for d = 84: 7.55\n",
      "Precision bits for d = 85: 5.34\n",
      "Precision bits for d = 86: 7.59\n",
      "Precision bits for d = 87: 5.42\n",
      "Precision bits for d = 88: 7.63\n",
      "Precision bits for d = 89: 5.54\n",
      "Precision bits for d = 90: 7.66\n",
      "Precision bits for d = 91: 5.65\n",
      "Precision bits for d = 92: 7.71\n",
      "Precision bits for d = 93: 5.78\n",
      "Precision bits for d = 94: 7.76\n",
      "Precision bits for d = 95: 5.94\n",
      "Precision bits for d = 96: 7.82\n",
      "Precision bits for d = 97: 6.17\n",
      "Precision bits for d = 98: 7.89\n",
      "Precision bits for d = 99: 6.45\n",
      "Precision bits for d = 100: 7.98\n",
      "Precision bits for d = 101: 6.72\n",
      "Precision bits for d = 102: 8.02\n",
      "Precision bits for d = 103: 6.83\n",
      "Precision bits for d = 104: 8.06\n",
      "Precision bits for d = 105: 6.57\n",
      "Precision bits for d = 106: 8.1\n",
      "Precision bits for d = 107: 6.39\n",
      "Precision bits for d = 108: 8.14\n",
      "Precision bits for d = 109: 6.28\n",
      "Precision bits for d = 110: 8.19\n",
      "Precision bits for d = 111: 6.21\n",
      "Precision bits for d = 112: 8.24\n",
      "Precision bits for d = 113: 6.16\n",
      "Precision bits for d = 114: 8.28\n",
      "Precision bits for d = 115: 6.12\n",
      "Precision bits for d = 116: 8.33\n",
      "Precision bits for d = 117: 6.11\n",
      "Precision bits for d = 118: 8.38\n"
     ]
    }
   ],
   "source": [
    "precision_bits = {}\n",
    "\n",
    "for deg in range(10, 119):\n",
    "    poly_relu_cheby = Chebyshev(-1, 1, deg, relu)\n",
    "    vec = np.copy(a)\n",
    "    for b in range(int(math.log2(n))):\n",
    "        for l in range(b + 1): \n",
    "            delta = 2 ** (b - l)\n",
    "            vec = swap_simd(vec, delta, b, l, poly = True)   \n",
    "    print(\"Precision bits for d = {}: {}\".format(deg, round(-math.log2(max(abs(a_backup - vec))), 2)))\n",
    "    precision_bits[deg] = round(-math.log2(max(abs(sub(a_backup, vec)))), 2)\n",
    "    "
   ]
  },
  {
   "cell_type": "code",
   "execution_count": 161,
   "id": "8c8410d2",
   "metadata": {},
   "outputs": [
    {
     "data": {
      "text/plain": [
       "[<matplotlib.lines.Line2D at 0x11ad52a00>]"
      ]
     },
     "execution_count": 161,
     "metadata": {},
     "output_type": "execute_result"
    },
    {
     "data": {
      "image/png": "[encoded data removed]",
      "text/plain": [
       "<Figure size 640x480 with 1 Axes>"
      ]
     },
     "metadata": {},
     "output_type": "display_data"
    }
   ],
   "source": [
    "plt.plot(list(precision_bits.values()))"
   ]
  },
  {
   "cell_type": "code",
   "execution_count": 162,
   "id": "c8ca7d74",
   "metadata": {},
   "outputs": [
    {
     "name": "stdout",
     "output_type": "stream",
     "text": [
      "Real sorted: [ 0.  1.  2.  3.  4.  5.  6.  7.  8.  9. 10. 11. 12. 13. 14. 15. 16. 17.\n",
      " 18. 19. 20. 21. 22. 23. 24. 25. 26. 27. 28. 29. 30. 31. 32. 33. 34. 35.\n",
      " 36. 37. 38. 39. 40. 41. 42. 43. 44. 45. 46. 47. 48. 49. 50. 51. 52. 53.\n",
      " 54. 55. 56. 57. 58. 59. 60. 61. 62. 63.]\n",
      "Poly sorted: [ 0.17822862  1.05981519  1.92193531  2.81593646  4.19228285  5.08699947\n",
      "  5.94766548  6.84803578  8.15235235  9.05235661  9.91312791 10.80905681\n",
      " 12.18283858 13.08068306 13.93841604 14.8470916  16.15299088 17.06142543\n",
      " 17.91940536 18.81733914 20.19073218 21.0867866  21.94783445 22.84745877\n",
      " 24.15246898 25.05209889 25.91312712 26.80858322 28.18165425 29.08217293\n",
      " 29.93392041 30.8541186  32.1458814  33.06607959 33.91782707 34.81834575\n",
      " 36.19141678 37.08687288 37.94790111 38.84753102 40.15254123 41.05216555\n",
      " 41.9132134  42.80926782 44.18266086 45.08059464 45.93857457 46.84700912\n",
      " 48.1529084  49.06158396 49.91931694 50.81716142 52.19094319 53.08687209\n",
      " 53.94764339 54.84764765 56.15196422 57.05233452 57.91300053 58.80771715\n",
      " 60.18406354 61.07806469 61.94018481 62.82177138]\n"
     ]
    }
   ],
   "source": [
    "print(\"Real sorted: {}\\nPoly sorted: {}\".format(a * n, vec * n))"
   ]
  }
 ],
 "metadata": {
  "kernelspec": {
   "display_name": "Python 3 (ipykernel)",
   "language": "python",
   "name": "python3"
  },
  "language_info": {
   "codemirror_mode": {
    "name": "ipython",
    "version": 3
   },
   "file_extension": ".py",
   "mimetype": "text/x-python",
   "name": "python",
   "nbconvert_exporter": "python",
   "pygments_lexer": "ipython3",
   "version": "3.9.6"
  }
 },
 "nbformat": 4,
 "nbformat_minor": 5
}
