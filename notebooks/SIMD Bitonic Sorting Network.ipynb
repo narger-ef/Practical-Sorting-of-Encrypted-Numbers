{
 "cells": [
  {
   "cell_type": "markdown",
   "id": "d8ae07d8",
   "metadata": {},
   "source": [
    "\n",
    "## SIMD Bitonic Sorting Network\n",
    "\n",
    "This notebook presents the algorithm that evaluates a Bitonic Sorting Network using the _max_ function and SIMD computations. This approach allows to easily write the same algorithm using the CKKS primitives."
   ]
  },
  {
   "cell_type": "markdown",
   "id": "c71bdaa7",
   "metadata": {},
   "source": [
    "### Importing libraries\n",
    "\n",
    "The *numpy* library will be useful as it will help us simulate SIMD computations. We also use *math* to compute logarithms and *matplotlib* to plot some numbers"
   ]
  },
  {
   "cell_type": "code",
   "execution_count": 166,
   "id": "6c961b66",
   "metadata": {},
   "outputs": [],
   "source": [
    "import numpy as np\n",
    "import math\n",
    "import matplotlib.pyplot as plt"
   ]
  },
  {
   "cell_type": "markdown",
   "id": "9584e98c",
   "metadata": {},
   "source": [
    "We will take advantage of Remez algorithm helper from the source file *remez_poly.py*"
   ]
  },
  {
   "cell_type": "code",
   "execution_count": 71,
   "id": "8407abf8",
   "metadata": {},
   "outputs": [],
   "source": [
    "from remez_poly import *"
   ]
  },
  {
   "cell_type": "markdown",
   "id": "7b5e2e28",
   "metadata": {},
   "source": [
    "Defining a class to handle Remez approximations"
   ]
  },
  {
   "cell_type": "code",
   "execution_count": 335,
   "id": "79473465",
   "metadata": {},
   "outputs": [],
   "source": [
    "class Remez:\n",
    "    def __init__(self, a, b, n, func):\n",
    "        self.a = a\n",
    "        self.b = b\n",
    "        self.coeff = remez(func, n, a, b)[0]\n",
    "\n",
    "    def eval(self, x):\n",
    "        return numpy.polyval(self.coeff[::-1], x)\n",
    "    \n",
    "class Chebyshev:\n",
    "    \"\"\"\n",
    "    Chebyshev(a, b, n, func)\n",
    "    Given a function func, lower and upper limits of the interval [a,b],\n",
    "    and maximum degree n, this class computes a Chebyshev approximation\n",
    "    of the function.\n",
    "    Method eval(x) yields the approximated function value.\n",
    "    \"\"\"\n",
    "    def __init__(self, a, b, n, func):\n",
    "        self.a = a\n",
    "        self.b = b\n",
    "        self.func = func\n",
    "\n",
    "        bma = 0.5 * (b - a)\n",
    "        bpa = 0.5 * (b + a)\n",
    "        f = [func(math.cos(math.pi * (k + 0.5) / n) * bma + bpa) for k in range(n)]\n",
    "        fac = 2.0 / n\n",
    "        self.c = [fac * sum([f[k] * math.cos(math.pi * j * (k + 0.5) / n)\n",
    "                  for k in range(n)]) for j in range(n)]\n",
    "\n",
    "    def eval(self, x):\n",
    "        a,b = self.a, self.b\n",
    "        #assert(a <= x <= b)\n",
    "        y = (2.0 * x - a - b) * (1.0 / (b - a))\n",
    "        y2 = 2.0 * y\n",
    "        (d, dd) = (self.c[-1], 0)             # Special case first step for efficiency\n",
    "        for cj in self.c[-2:0:-1]:            # Clenshaw's recurrence\n",
    "            (d, dd) = (y2 * d - dd + cj, d)\n",
    "        return y * d - dd + 0.5 * self.c[0]   # Last step is different\n",
    "    \n",
    "def relu(x):\n",
    "    return max(0, x)\n",
    "\n",
    "poly_relu_remez = Remez(-1, 1, 32, relu)\n",
    "poly_relu_cheby = Chebyshev(-1, 1, 247, relu)"
   ]
  },
  {
   "cell_type": "markdown",
   "id": "da8edcba",
   "metadata": {},
   "source": [
    "## Defining primitive functions"
   ]
  },
  {
   "cell_type": "markdown",
   "id": "28c263de",
   "metadata": {},
   "source": [
    "This set of functions can be trivially written as CKKS homomorphic operations"
   ]
  },
  {
   "cell_type": "code",
   "execution_count": 336,
   "id": "63cf8ff3",
   "metadata": {},
   "outputs": [],
   "source": [
    "def add(a, b):\n",
    "    \"\"\"\n",
    "    Adds two arrays element-wise.\n",
    "\n",
    "    Parameters:\n",
    "    a (array-like): First input array.\n",
    "    b (array-like): Second input array.\n",
    "\n",
    "    Returns:\n",
    "    numpy.ndarray: Element-wise sum of input arrays.\n",
    "    \"\"\"\n",
    "    return np.add(a, b)\n",
    "\n",
    "def add_many(values):\n",
    "    \"\"\"\n",
    "    Sums up multiple arrays contained in the values list.\n",
    "\n",
    "    Parameters:\n",
    "    values (list of array-like): List containing arrays to be summed.\n",
    "\n",
    "    Returns:\n",
    "    numpy.ndarray: Sum of all arrays in the values list.\n",
    "    \"\"\"\n",
    "    res = np.zeros(len(values[0]), dtype=int)\n",
    "    for value in values:\n",
    "        res = add(res, value)\n",
    "    return res\n",
    "\n",
    "def sub(a, b):\n",
    "    \"\"\"\n",
    "    Subtracts one array from another element-wise.\n",
    "\n",
    "    Parameters:\n",
    "    a (array-like): The array to be subtracted from.\n",
    "    b (array-like): The array to subtract.\n",
    "\n",
    "    Returns:\n",
    "    numpy.ndarray: Element-wise difference of the two input arrays.\n",
    "    \"\"\"\n",
    "    return np.add(a, -b)\n",
    "\n",
    "def mul(a, b):\n",
    "    \"\"\"\n",
    "    Multiplies two arrays element-wise.\n",
    "\n",
    "    Parameters:\n",
    "    a (array-like): First input array.\n",
    "    b (array-like): Second input array.\n",
    "\n",
    "    Returns:\n",
    "    numpy.ndarray: Element-wise product of input arrays.\n",
    "    \"\"\"\n",
    "    return np.multiply(a, b)\n",
    "\n",
    "def mask(a, index):\n",
    "    \"\"\"\n",
    "    Masks elements of array a at the specified index with 1 and multiplies with the array.\n",
    "\n",
    "    Parameters:\n",
    "    a (array-like): The input array.\n",
    "    index (int): Index to be masked.\n",
    "\n",
    "    Returns:\n",
    "    numpy.ndarray: Array with specified index masked with 1.\n",
    "    \"\"\"\n",
    "    mask_vector = np.zeros(len(a), dtype=int)\n",
    "    mask_vector[index] = 1\n",
    "    return mul(a, mask_vector)\n",
    "\n",
    "def rot(a, index):\n",
    "    \"\"\"\n",
    "    Rotates the array to the left by the specified number of positions.\n",
    "\n",
    "    Parameters:\n",
    "    a (array-like): The input array.\n",
    "    index (int): Number of positions to rotate the array to the left.\n",
    "\n",
    "    Returns:\n",
    "    numpy.ndarray: Array rotated to the left by the specified number of positions.\n",
    "    \"\"\"\n",
    "    return np.roll(a, -index)\n",
    "\n",
    "def f_min(a, b):\n",
    "    \"\"\"\n",
    "    Computes the element-wise minimum of two arrays.\n",
    "\n",
    "    Parameters:\n",
    "    a (array-like): First input array.\n",
    "    b (array-like): Second input array.\n",
    "\n",
    "    Returns:\n",
    "    numpy.ndarray: Element-wise minimum of the two input arrays.\n",
    "    \"\"\"\n",
    "    ans = []\n",
    "    for i in range(len(a)):\n",
    "        ans.append(min(a[i], b[i]))\n",
    "    return np.array(ans)\n",
    "\n",
    "def f_min_remez(a, b):\n",
    "    \"\"\"\n",
    "    Computes the element-wise minimum of two arrays.\n",
    "\n",
    "    Parameters:\n",
    "    a (array-like): First input array.\n",
    "    b (array-like): Second input array.\n",
    "\n",
    "    Returns:\n",
    "    numpy.ndarray: Element-wise minimum of the two input arrays.\n",
    "    \"\"\"\n",
    "    ans = []\n",
    "    for i in range(len(a)):\n",
    "        ans.append(a[i] - poly_relu_remez.eval(a[i] - b[i]))\n",
    "    return np.array(ans)\n",
    "\n",
    "def f_min_cheby(a, b):\n",
    "    \"\"\"\n",
    "    Computes the element-wise minimum of two arrays.\n",
    "\n",
    "    Parameters:\n",
    "    a (array-like): First input array.\n",
    "    b (array-like): Second input array.\n",
    "\n",
    "    Returns:\n",
    "    numpy.ndarray: Element-wise minimum of the two input arrays.\n",
    "    \"\"\"\n",
    "    return sub(a, np.vectorize(poly_relu_cheby.eval)(sub(a, b)))"
   ]
  },
  {
   "cell_type": "markdown",
   "id": "ced065c9",
   "metadata": {},
   "source": [
    "Now we define the _swap_ function that will heavily be used throughout the evaluation of the Sorting Network"
   ]
  },
  {
   "cell_type": "code",
   "execution_count": 337,
   "id": "d4225e14",
   "metadata": {},
   "outputs": [],
   "source": [
    "def swap_simd(a, delta, r = 0, s = 0, poly = True):    \n",
    "    \"\"\"\n",
    "    Computes a parallel evaluation of a Sorting Network\n",
    "\n",
    "    Parameters:\n",
    "    a (array-like): Input array\n",
    "    delta (int): The value of delta. In a sorting network, it specifies the \"length of the arrows\".\n",
    "    r (int): The current round of the sorting network\n",
    "    s (int): The current stage of the sorting network\n",
    "\n",
    "    Returns:\n",
    "    numpy.ndarray: Element-wise minimum of the two input arrays.\n",
    "    \"\"\"\n",
    "    rot_positive = rot(a, delta)\n",
    "    rot_negative = rot(a, -delta)\n",
    "    \n",
    "    # This is the evaluation of the non-linear function\n",
    "    \n",
    "    if poly:\n",
    "        f = f_min_cheby(a, rot_positive)\n",
    "    else:\n",
    "        f = f_min(a, rot_positive)\n",
    "            \n",
    "    m1 = f\n",
    "    m2 = sub(add(a, rot_negative), rot(f, -delta))\n",
    "    m3 = sub(add(a, rot_positive), f)\n",
    "    m4 = rot(f, -delta)\n",
    "    \n",
    "    masks = generate_masks(len(a), r, s)\n",
    "    \n",
    "    return add_many([mul(m1, masks[0]), \n",
    "                     mul(m2, masks[1]),\n",
    "                     mul(m3, masks[2]),\n",
    "                     mul(m4, masks[3])])"
   ]
  },
  {
   "cell_type": "code",
   "execution_count": 338,
   "id": "6f41780b",
   "metadata": {},
   "outputs": [],
   "source": [
    "def generate_masks(length, r, s):\n",
    "    \"\"\"\n",
    "    Da commentare\n",
    "    \"\"\"\n",
    "    mask_1 = []\n",
    "    mask_2 = []\n",
    "    mask_3 = []\n",
    "    mask_4 = []\n",
    "    \n",
    "    i = 0  \n",
    "    \n",
    "    while (i < length / (2 ** (r + 2))):\n",
    "        \n",
    "        for times in range(2 ** s):\n",
    "            for j in range(2 ** r):\n",
    "                # How many times do we consider m_1\n",
    "\n",
    "                mask_1.append(1)\n",
    "                mask_2.append(0)\n",
    "                mask_3.append(0)\n",
    "                mask_4.append(0)\n",
    "\n",
    "            for j in range(2 ** r):\n",
    "                # How many times do we consider m_2\n",
    "\n",
    "                mask_1.append(0)\n",
    "                mask_2.append(1)\n",
    "                mask_3.append(0)\n",
    "                mask_4.append(0)\n",
    "        \n",
    "        if (i + 1) * 2 ** (s + r + 1) >= length:\n",
    "            break\n",
    "            \n",
    "        for times in range(2 ** s):\n",
    "            for j in range(2 ** (r)):\n",
    "                mask_1.append(0)\n",
    "                mask_2.append(0)\n",
    "                mask_3.append(1)\n",
    "                mask_4.append(0)\n",
    "                \n",
    "            for j in range(2 ** r):\n",
    "                mask_1.append(0)\n",
    "                mask_2.append(0)\n",
    "                mask_3.append(0)\n",
    "                mask_4.append(1)\n",
    "        \n",
    "            \n",
    "        if (i + 1) * 2 ** (s + r + 2) >= length:\n",
    "            break\n",
    "            \n",
    "        i += 1\n",
    "    \n",
    "    return [mask_1, mask_2, mask_3, mask_4]"
   ]
  },
  {
   "cell_type": "markdown",
   "id": "5eb3885b",
   "metadata": {},
   "source": [
    "### Evaluating a Network"
   ]
  },
  {
   "cell_type": "markdown",
   "id": "ef0ad25c",
   "metadata": {},
   "source": [
    "We sample a vector of $2^{6} = 64$ elements"
   ]
  },
  {
   "cell_type": "code",
   "execution_count": 339,
   "id": "c3ef6228",
   "metadata": {},
   "outputs": [
    {
     "name": "stdout",
     "output_type": "stream",
     "text": [
      "[0.546875 0.078125 0.75     0.59375  0.046875 0.03125  0.515625 0.625\n",
      " 0.484375 0.25     0.359375 0.578125 0.328125 0.90625  0.40625  0.375\n",
      " 0.796875 0.09375  0.828125 0.421875 0.84375  0.734375 0.34375  0.234375\n",
      " 0.78125  0.171875 0.953125 0.125    0.296875 0.703125 0.203125 0.15625\n",
      " 0.671875 0.390625 0.5625   0.859375 0.0625   0.265625 0.65625  0.1875\n",
      " 0.015625 0.71875  0.4375   0.46875  0.140625 0.5      0.28125  0.96875\n",
      " 0.21875  0.921875 0.53125  0.109375 0.609375 0.3125   0.       0.8125\n",
      " 0.765625 0.9375   0.640625 0.890625 0.875    0.984375 0.6875   0.453125]\n"
     ]
    }
   ],
   "source": [
    "n = 2 ** 6\n",
    "\n",
    "a = np.arange(n) / n\n",
    "np.random.shuffle(a)\n",
    "\n",
    "vec = np.copy(a)\n",
    "print(vec)"
   ]
  },
  {
   "cell_type": "markdown",
   "id": "b1fabaf0",
   "metadata": {},
   "source": [
    "Now we evaluate it using SIMD computations, in particular we will just use the _swap_simd_ function"
   ]
  },
  {
   "cell_type": "code",
   "execution_count": 340,
   "id": "f984b9f6",
   "metadata": {},
   "outputs": [
    {
     "data": {
      "text/plain": [
       "array([-8.84250739e-04,  1.61827647e-02,  2.79167794e-02,  5.00839830e-02,\n",
       "        6.24713227e-02,  7.79290506e-02,  9.45372919e-02,  1.09570205e-01,\n",
       "        1.25160542e-01,  1.40214736e-01,  1.53449441e-01,  1.74748906e-01,\n",
       "        1.88031967e-01,  2.02592539e-01,  2.18258944e-01,  2.34307718e-01,\n",
       "        2.50879076e-01,  2.65516071e-01,  2.81288299e-01,  2.96972058e-01,\n",
       "        3.12871640e-01,  3.28608563e-01,  3.43923641e-01,  3.57210703e-01,\n",
       "        3.76551121e-01,  3.89118246e-01,  4.05045420e-01,  4.22753259e-01,\n",
       "        4.38435663e-01,  4.54045795e-01,  4.68508195e-01,  4.84341858e-01,\n",
       "        4.99336834e-01,  5.16863865e-01,  5.31115173e-01,  5.46375467e-01,\n",
       "        5.62260477e-01,  5.77540227e-01,  5.95558912e-01,  6.09268597e-01,\n",
       "        6.24812927e-01,  6.40584141e-01,  6.56400170e-01,  6.71415675e-01,\n",
       "        6.87808600e-01,  7.02425774e-01,  7.18455596e-01,  7.34269605e-01,\n",
       "        7.50019541e-01,  7.64992174e-01,  7.79771084e-01,  7.98705868e-01,\n",
       "        8.13397860e-01,  8.26681920e-01,  8.44967905e-01,  8.59057912e-01,\n",
       "        8.73071519e-01,  8.91500110e-01,  9.06359756e-01,  9.21373896e-01,\n",
       "        9.37789536e-01,  9.53149714e-01,  9.67605033e-01,  9.86422580e-01])"
      ]
     },
     "execution_count": 340,
     "metadata": {},
     "output_type": "execute_result"
    }
   ],
   "source": [
    "for i in range(int(math.log2(n))):\n",
    "    for j in range(i + 1): \n",
    "        delta = 2 ** (i - j)\n",
    "        s = i - j\n",
    "        r = j\n",
    "        vec = swap_simd(vec, delta, s, r, poly = True)  \n",
    "vec"
   ]
  },
  {
   "cell_type": "code",
   "execution_count": 341,
   "id": "d1dcd6d1",
   "metadata": {},
   "outputs": [
    {
     "data": {
      "text/plain": [
       "array([0.      , 0.015625, 0.03125 , 0.046875, 0.0625  , 0.078125,\n",
       "       0.09375 , 0.109375, 0.125   , 0.140625, 0.15625 , 0.171875,\n",
       "       0.1875  , 0.203125, 0.21875 , 0.234375, 0.25    , 0.265625,\n",
       "       0.28125 , 0.296875, 0.3125  , 0.328125, 0.34375 , 0.359375,\n",
       "       0.375   , 0.390625, 0.40625 , 0.421875, 0.4375  , 0.453125,\n",
       "       0.46875 , 0.484375, 0.5     , 0.515625, 0.53125 , 0.546875,\n",
       "       0.5625  , 0.578125, 0.59375 , 0.609375, 0.625   , 0.640625,\n",
       "       0.65625 , 0.671875, 0.6875  , 0.703125, 0.71875 , 0.734375,\n",
       "       0.75    , 0.765625, 0.78125 , 0.796875, 0.8125  , 0.828125,\n",
       "       0.84375 , 0.859375, 0.875   , 0.890625, 0.90625 , 0.921875,\n",
       "       0.9375  , 0.953125, 0.96875 , 0.984375])"
      ]
     },
     "execution_count": 341,
     "metadata": {},
     "output_type": "execute_result"
    }
   ],
   "source": [
    "a.sort()\n",
    "a"
   ]
  },
  {
   "cell_type": "markdown",
   "id": "00cb8f75",
   "metadata": {},
   "source": [
    "Computing precision bits"
   ]
  },
  {
   "cell_type": "code",
   "execution_count": 342,
   "id": "f6657d6e",
   "metadata": {},
   "outputs": [
    {
     "name": "stdout",
     "output_type": "stream",
     "text": [
      "Precision bits: 8.23\n"
     ]
    }
   ],
   "source": [
    "print(\"Precision bits: {}\".format(round(-math.log2(max(sub(a, vec))), 2)))"
   ]
  },
  {
   "cell_type": "code",
   "execution_count": 343,
   "id": "c8ca7d74",
   "metadata": {},
   "outputs": [
    {
     "name": "stdout",
     "output_type": "stream",
     "text": [
      "Real sorted: [ 0.  1.  2.  3.  4.  5.  6.  7.  8.  9. 10. 11. 12. 13. 14. 15. 16. 17.\n",
      " 18. 19. 20. 21. 22. 23. 24. 25. 26. 27. 28. 29. 30. 31. 32. 33. 34. 35.\n",
      " 36. 37. 38. 39. 40. 41. 42. 43. 44. 45. 46. 47. 48. 49. 50. 51. 52. 53.\n",
      " 54. 55. 56. 57. 58. 59. 60. 61. 62. 63.]\n",
      "Poly sorted: [-5.65920473e-02  1.03569694e+00  1.78667388e+00  3.20537491e+00\n",
      "  3.99816465e+00  4.98745924e+00  6.05038668e+00  7.01249314e+00\n",
      "  8.01027468e+00  8.97374312e+00  9.82076424e+00  1.11839300e+01\n",
      "  1.20340459e+01  1.29659225e+01  1.39685724e+01  1.49956939e+01\n",
      "  1.60562609e+01  1.69930286e+01  1.80024511e+01  1.90062117e+01\n",
      "  2.00237850e+01  2.10309480e+01  2.20111130e+01  2.28614850e+01\n",
      "  2.40992717e+01  2.49035678e+01  2.59229069e+01  2.70562086e+01\n",
      "  2.80598824e+01  2.90589309e+01  2.99845245e+01  3.09978789e+01\n",
      "  3.19575574e+01  3.30792874e+01  3.39913711e+01  3.49680299e+01\n",
      "  3.59846705e+01  3.69625745e+01  3.81157704e+01  3.89931902e+01\n",
      "  3.99880274e+01  4.09973850e+01  4.20096109e+01  4.29706032e+01\n",
      "  4.40197504e+01  4.49552495e+01  4.59811581e+01  4.69932547e+01\n",
      "  4.80012506e+01  4.89594991e+01  4.99053494e+01  5.11171755e+01\n",
      "  5.20574631e+01  5.29076429e+01  5.40779459e+01  5.49797064e+01\n",
      "  5.58765772e+01  5.70560070e+01  5.80070244e+01  5.89679293e+01\n",
      "  6.00185303e+01  6.10015817e+01  6.19267221e+01  6.31310451e+01]\n"
     ]
    }
   ],
   "source": [
    "print(\"Real sorted: {}\\nPoly sorted: {}\".format(a * n, vec * n))"
   ]
  },
  {
   "cell_type": "markdown",
   "id": "f8f13ef5",
   "metadata": {},
   "source": [
    "Distribution of errors"
   ]
  },
  {
   "cell_type": "code",
   "execution_count": 344,
   "id": "3887c356",
   "metadata": {},
   "outputs": [
    {
     "data": {
      "text/plain": [
       "[<matplotlib.lines.Line2D at 0x1202d3d30>]"
      ]
     },
     "execution_count": 344,
     "metadata": {},
     "output_type": "execute_result"
    },
    {
     "data": {
      "image/png": "[encoded data removed]",
      "text/plain": [
       "<Figure size 640x480 with 1 Axes>"
      ]
     },
     "metadata": {},
     "output_type": "display_data"
    }
   ],
   "source": [
    "plt.plot(sub(a, vec), label=\"Real\")"
   ]
  },
  {
   "cell_type": "code",
   "execution_count": null,
   "id": "79868c32",
   "metadata": {},
   "outputs": [],
   "source": []
  }
 ],
 "metadata": {
  "kernelspec": {
   "display_name": "Python 3 (ipykernel)",
   "language": "python",
   "name": "python3"
  },
  "language_info": {
   "codemirror_mode": {
    "name": "ipython",
    "version": 3
   },
   "file_extension": ".py",
   "mimetype": "text/x-python",
   "name": "python",
   "nbconvert_exporter": "python",
   "pygments_lexer": "ipython3",
   "version": "3.9.6"
  }
 },
 "nbformat": 4,
 "nbformat_minor": 5
}
